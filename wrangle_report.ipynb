{
 "cells": [
  {
   "cell_type": "markdown",
   "metadata": {},
   "source": [
    "### Wrangle report\n",
    "\n",
    "> In the data gathering process, I downloaded a provided csv file for twitter data and read from jupypoter notebook. I collected the image dataset programmatically directly reading the file with get() call. I gathered the third data set through Twitter API call. My Twitter developer account still pending after four days. That is why I used secret key and tokens for the API call that was provided by a mentor at Udacity. I was able to get an API response and collect my data into a json file. \n",
    "In the data assessment process, I investigated each dataset both manually and programmatically. I inspected each dataset for column values, data types, null values and counts. Then I listed 11 data quality issues and 5 data tidiness issues. \n",
    "In the data cleaning process, I defined each issue, wrote my code, and tested it. I dropped columns that I thought invalid, I changed dog stage type column values to 0 and 1, converted several columns to appropriate data types, merged three datasets, created day, hour and month features based on timestamp column and stored the final clean dataframe object into a csv file. \n",
    "I found three interesting insights. \n",
    "\n",
    "> First insight: the highest retweet counts a tweet got was 76962, and the highest favorite count a tweet got was 154895. The lowest retweet count was 11, and the lowest favorite count was 0. That means, tweets were quite popular. They were liked and shared by many. They were retweeted more times than they were favorited. \n",
    "\n",
    "> Second insight: Since denominator were mostly 10, I investigated numerators and their relationship with favorite counts. It seems like higher a numerator gets, count of favorites increase, but only up when the numerator is until 15. Numerators higher than 14 have negative relationship with favorite counts.\n",
    "\n",
    "> Third insight: Count of favorites has a positive linear relationship with count of retweets.\n"
   ]
  },
  {
   "cell_type": "code",
   "execution_count": null,
   "metadata": {},
   "outputs": [],
   "source": []
  }
 ],
 "metadata": {
  "kernelspec": {
   "display_name": "Python 3",
   "language": "python",
   "name": "python3"
  },
  "language_info": {
   "codemirror_mode": {
    "name": "ipython",
    "version": 3
   },
   "file_extension": ".py",
   "mimetype": "text/x-python",
   "name": "python",
   "nbconvert_exporter": "python",
   "pygments_lexer": "ipython3",
   "version": "3.7.6"
  }
 },
 "nbformat": 4,
 "nbformat_minor": 2
}
